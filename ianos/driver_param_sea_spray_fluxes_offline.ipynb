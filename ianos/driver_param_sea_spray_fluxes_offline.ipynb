{
 "cells": [
  {
   "cell_type": "markdown",
   "id": "777cf10c-36c2-46dc-9d15-fa99c8a4d378",
   "metadata": {},
   "source": [
    "# Interface offline to sea spray parametrizations\n",
    "---------------------------------------------------\n",
    "\n",
    "- SURFEX/coupling_sltn.F90 : sea salt aerosol parametrisation\n",
    "- SURFEX/mode_ssgf.F90 : sea spray generation functions\n",
    "\n",
    "original  : 30.10.2024 - J. Pianezze"
   ]
  },
  {
   "cell_type": "markdown",
   "id": "ce81a0f9-26f8-443a-a597-a80e80c568ac",
   "metadata": {},
   "source": [
    "## Import packages and modules\n",
    "-----------------------------------------"
   ]
  },
  {
   "cell_type": "code",
   "execution_count": 1,
   "id": "fc68913d-70fd-4195-af6a-243c92d9ee4e",
   "metadata": {},
   "outputs": [],
   "source": [
    "import sys, os\n",
    "import numpy as np\n",
    "import netCDF4\n",
    "import matplotlib.pyplot as plt\n",
    "from   matplotlib.colors import BoundaryNorm\n",
    "from   mpl_toolkits.basemap import Basemap\n",
    "import matplotlib.gridspec as gridspec\n",
    "sys.path.append(os.path.abspath(os.curdir)+'/../src_python/SURFEX/')\n",
    "import mode_ssgf"
   ]
  },
  {
   "cell_type": "markdown",
   "id": "b37dba10-4691-4dd4-baa2-feebd53cb821",
   "metadata": {},
   "source": [
    "## Choose the file containing the forcing fields\n",
    "-----------------------------------------"
   ]
  },
  {
   "cell_type": "code",
   "execution_count": 2,
   "id": "9cefc75f-4cc5-4de5-b6ba-40703f119b14",
   "metadata": {},
   "outputs": [],
   "source": [
    "cfg_file_WW3 = '/home/piaj/03_workdir/3M_study_IANOS/devel_SEASPRAY/ww3.202009.nc'"
   ]
  },
  {
   "cell_type": "markdown",
   "id": "8ffbc209-a631-4ae1-b525-5867a02f93cb",
   "metadata": {},
   "source": [
    "## Initialisation\n",
    "-----------------------------------------"
   ]
  },
  {
   "cell_type": "code",
   "execution_count": 3,
   "id": "5b6f272b-b00b-454f-b351-8a0ae910017e",
   "metadata": {},
   "outputs": [],
   "source": [
    "mode_ssgf.modd_csts.xg           = 9.80665\n",
    "mode_ssgf.modd_csts.xpi          = 2*np.arcsin(1.0)\n",
    "mode_ssgf.modd_csts.xkarman      = 0.4\n",
    "mode_ssgf.modd_ocean_csts.xrhosw = 1024.0"
   ]
  },
  {
   "cell_type": "markdown",
   "id": "75ef09ab-0292-4baf-b615-b32f55d53378",
   "metadata": {},
   "source": [
    "## Read NetCDF file and variables\n",
    "-----------------------------------------"
   ]
  },
  {
   "cell_type": "code",
   "execution_count": 4,
   "id": "cea263bc-ae2b-47a4-a059-e63c24d41764",
   "metadata": {},
   "outputs": [],
   "source": [
    "file_WW3 = netCDF4.Dataset(cfg_file_WW3)\n",
    "lon_WW3  = file_WW3.variables['longitude']\n",
    "lat_WW3  = file_WW3.variables['latitude']\n",
    "nlon_WW3 = np.size(file_WW3.dimensions['longitude'])\n",
    "nlat_WW3 = np.size(file_WW3.dimensions['latitude'])\n",
    "\n",
    "wind_WW3  = file_WW3.variables['hs'] [80,:,:].reshape(nlat_WW3*nlon_WW3)+10.0 # BUG\n",
    "hs_WW3    = file_WW3.variables['hs'] [80,:,:].reshape(nlat_WW3*nlon_WW3)\n",
    "ustar_WW3 = file_WW3.variables['hs'] [80,:,:].reshape(nlat_WW3*nlon_WW3) # BUG\n",
    "cp_WW3    = file_WW3.variables['tp'] [80,:,:].reshape(nlat_WW3*nlon_WW3)*(9.81/(2.0*np.pi))\n",
    "mss_WW3   = file_WW3.variables['hs'] [80,:,:].reshape(nlat_WW3*nlon_WW3) # BUG\n",
    "phioc_WW3 = file_WW3.variables['foc'][80,:,:].reshape(nlat_WW3*nlon_WW3)\n",
    "rhoa_WW3  = file_WW3.variables['hs'] [80,:,:].reshape(nlat_WW3*nlon_WW3) # BUG\n",
    "visa_WW3  = file_WW3.variables['hs'] [80,:,:].reshape(nlat_WW3*nlon_WW3)*1E-5 # BUG"
   ]
  },
  {
   "cell_type": "markdown",
   "id": "7bb10573-04b4-4190-ac66-eaa2e00c83ba",
   "metadata": {},
   "source": [
    "## Compute sea spray aerosol fluxes\n",
    "-----------------------------------------"
   ]
  },
  {
   "cell_type": "code",
   "execution_count": 5,
   "id": "5ecbb447-2756-4754-b577-47d83ba5635b",
   "metadata": {},
   "outputs": [],
   "source": [
    "sv_WW3,sa_WW3,vfm_WW3,fm_WW3 = mode_ssgf.mode_ssgf.b22a(ustar_WW3,wind_WW3,hs_WW3,cp_WW3,mss_WW3,phioc_WW3,rhoa_WW3,visa_WW3)"
   ]
  },
  {
   "cell_type": "markdown",
   "id": "ded880b5-149c-45ef-869e-1e7786fafa01",
   "metadata": {},
   "source": [
    "## Reshape variables\n",
    "-----------------------------------------"
   ]
  },
  {
   "cell_type": "code",
   "execution_count": 6,
   "id": "b164d04d-b39c-4b1f-8cbf-e25321fabcfb",
   "metadata": {},
   "outputs": [],
   "source": [
    "wind_WW3  = wind_WW3.reshape (nlat_WW3,nlon_WW3)\n",
    "hs_WW3    = hs_WW3.reshape   (nlat_WW3,nlon_WW3)\n",
    "ustar_WW3 = ustar_WW3.reshape(nlat_WW3,nlon_WW3)\n",
    "cp_WW3    = cp_WW3.reshape   (nlat_WW3,nlon_WW3)\n",
    "mss_WW3   = mss_WW3.reshape  (nlat_WW3,nlon_WW3)\n",
    "phioc_WW3 = phioc_WW3.reshape(nlat_WW3,nlon_WW3)\n",
    "rhoa_WW3  = rhoa_WW3.reshape (nlat_WW3,nlon_WW3)\n",
    "visa_WW3  = visa_WW3.reshape (nlat_WW3,nlon_WW3)\n",
    "\n",
    "sv_WW3    = sv_WW3.reshape   (nlat_WW3,nlon_WW3)\n",
    "sa_WW3    = sa_WW3.reshape   (nlat_WW3,nlon_WW3)\n",
    "vfm_WW3   = vfm_WW3.reshape  (nlat_WW3,nlon_WW3)\n",
    "fm_WW3    = fm_WW3.reshape   (nlat_WW3,nlon_WW3)"
   ]
  },
  {
   "cell_type": "markdown",
   "id": "595006b6-2316-48bf-8436-429d83a5807a",
   "metadata": {},
   "source": [
    "## Figure\n",
    "-----------------------------------------"
   ]
  },
  {
   "cell_type": "code",
   "execution_count": 7,
   "id": "d32c0cfd-471c-45c8-982b-508be6687b72",
   "metadata": {},
   "outputs": [
    {
     "name": "stderr",
     "output_type": "stream",
     "text": [
      "/tmp/ipykernel_69180/796852125.py:55: UserWarning: The input coordinates to pcolormesh are interpreted as cell centers, but are not monotonically increasing or decreasing. This may lead to incorrectly calculated cell edges, in which case, please supply explicit cell edges to pcolormesh.\n",
      "  bmap_pmsh = bmap.pcolormesh(lon_WW3[:,:],lat_WW3[:,:],hs_WW3[:,:],cmap=cmap_hs, norm=norm_hs)\n",
      "/tmp/ipykernel_69180/796852125.py:102: UserWarning: The input coordinates to pcolormesh are interpreted as cell centers, but are not monotonically increasing or decreasing. This may lead to incorrectly calculated cell edges, in which case, please supply explicit cell edges to pcolormesh.\n",
      "  bmap_pmsh = bmap.pcolormesh(lon_WW3[:,:], lat_WW3[:,:], fm_WW3[:,:], cmap=cmap_flux, norm=norm_flux)\n"
     ]
    }
   ],
   "source": [
    "fig = plt.figure(figsize = (6,5))\n",
    "gs  = gridspec.GridSpec(1,2)\n",
    "\n",
    "# ---------------------------------------------------------\n",
    "#    Add basemap\n",
    "# ---------------------------------------------------------\n",
    "\n",
    "bmap=Basemap(llcrnrlat=np.min(lat_WW3),llcrnrlon=np.min(lon_WW3),\\\n",
    "             urcrnrlat=np.max(lat_WW3),urcrnrlon=np.max(lon_WW3),\\\n",
    "             lat_1=np.min(lat_WW3),lat_2=np.max(lat_WW3),\\\n",
    "             lat_0=(np.min(lat_WW3)+np.max(lat_WW3))/2.0,\\\n",
    "             lon_0=(np.min(lon_WW3)+np.max(lon_WW3))/2.0,\\\n",
    "             projection='lcc',suppress_ticks=True, resolution = 'i')\n",
    "    \n",
    "mer=np.arange(-150, 200, 5.0)\n",
    "par=np.arange(-120, 200, 5.0)\n",
    "    \n",
    "lon_WW3, lat_WW3 = bmap(lon_WW3, lat_WW3)\n",
    "\n",
    "# ---------------------------------------------------------\n",
    "#           ___________                  \n",
    "#          |     |     |                  \n",
    "#          |  X  |     |                  \n",
    "#          |_____|_____|                  \n",
    "#                                         \n",
    "# ---------------------------------------------------------\n",
    "\n",
    "ax00  = fig.add_subplot(gs[0,0])\n",
    "\n",
    "# ---------------------------------------------------------\n",
    "#    Add basemap info\n",
    "# ---------------------------------------------------------\n",
    "\n",
    "bmap.drawmeridians(mer, labels=[0, 0, 0, 1], fontsize=8, color='0.6', linewidth=0.5, ax=ax00)\n",
    "bmap.drawparallels(par, labels=[1, 0, 0, 0], fontsize=8, color='0.6', linewidth=0.5, ax=ax00)\n",
    "bmap.drawcoastlines(linewidth=0.5, linestyle='solid', color='k',ax=ax00)\n",
    "\n",
    "# ---------------------------------------------------------\n",
    "#    Definition de la colormap\n",
    "# ---------------------------------------------------------\n",
    "\n",
    "cmap_hs=plt.get_cmap('hot_r')\n",
    "    \n",
    "# ---------------------------------------------------------\n",
    "#    Definition des niveaux\n",
    "# ---------------------------------------------------------\n",
    "\n",
    "levels_hs = np.arange(0.0, 5.1, 0.1)\n",
    "norm_hs   = BoundaryNorm(levels_hs, ncolors=cmap_hs.N, clip=True)\n",
    "    \n",
    "# ---------------------------------------------------------\n",
    "#    Pcolormesh\n",
    "# ---------------------------------------------------------\n",
    "\n",
    "bmap_pmsh = bmap.pcolormesh(lon_WW3[:,:],lat_WW3[:,:],hs_WW3[:,:],cmap=cmap_hs, norm=norm_hs)\n",
    "cbar      = bmap.colorbar(bmap_pmsh) \n",
    "\n",
    "# ---------------------------------------------------------\n",
    "#    Add texts\n",
    "# ---------------------------------------------------------\n",
    "\n",
    "plt.text(0.0,1.0,r'(a) Hs [m]',\\\n",
    "         horizontalalignment='left',verticalalignment='bottom',\\\n",
    "         fontsize=8, transform = ax00.transAxes, color='k')\n",
    "\n",
    "# ---------------------------------------------------------\n",
    "#           ___________                  \n",
    "#          |     |     |                  \n",
    "#          |     |  X  |                  \n",
    "#          |_____|_____|                  \n",
    "#                                         \n",
    "# ---------------------------------------------------------\n",
    "\n",
    "\n",
    "ax01  = fig.add_subplot(gs[0,1])\n",
    "\n",
    "# ---------------------------------------------------------\n",
    "#    Add basemap info\n",
    "# ---------------------------------------------------------\n",
    "\n",
    "bmap.drawmeridians(mer, labels=[0, 0, 0, 1], fontsize=8, color='0.6', linewidth=0.5, ax=ax01)\n",
    "bmap.drawparallels(par, labels=[0, 0, 0, 0], fontsize=8, color='0.6', linewidth=0.5, ax=ax01)\n",
    "bmap.drawcoastlines(linewidth=0.5, linestyle='solid', color='k', ax=ax01)\n",
    "\n",
    "# ---------------------------------------------------------\n",
    "#    Definition de la colormap\n",
    "# ---------------------------------------------------------\n",
    "\n",
    "cmap_flux=plt.get_cmap('hot_r')\n",
    "    \n",
    "# ---------------------------------------------------------\n",
    "#    Definition des niveaux\n",
    "# ---------------------------------------------------------\n",
    "\n",
    "levels_flux = np.arange(0.0, 0.1, 0.01)\n",
    "norm_flux   = BoundaryNorm(levels_flux, ncolors=cmap_flux.N, clip=True)\n",
    "    \n",
    "# ---------------------------------------------------------\n",
    "#    Pcolormesh\n",
    "# ---------------------------------------------------------\n",
    "\n",
    "bmap_pmsh = bmap.pcolormesh(lon_WW3[:,:], lat_WW3[:,:], fm_WW3[:,:], cmap=cmap_flux, norm=norm_flux)\n",
    "cbar      = bmap.colorbar(bmap_pmsh) \n",
    "\n",
    "# ---------------------------------------------------------\n",
    "#    Add texts\n",
    "# ---------------------------------------------------------\n",
    "\n",
    "plt.text(0.0,1.0,r'(b) Mass flux [kg m-2 s-1]',\\\n",
    "         horizontalalignment='left',verticalalignment='bottom',\\\n",
    "         fontsize=8, transform = ax01.transAxes, color='k')\n",
    "\n",
    "# ---------------------------------------------------------\n",
    "#    Save figure\n",
    "# ---------------------------------------------------------\n",
    "\n",
    "plt.savefig('hs_mass_flux_jupyter.png', bbox_inches='tight', dpi=400)\n",
    "plt.close()\n"
   ]
  }
 ],
 "metadata": {
  "kernelspec": {
   "display_name": "Python 3 (ipykernel)",
   "language": "python",
   "name": "python3"
  },
  "language_info": {
   "codemirror_mode": {
    "name": "ipython",
    "version": 3
   },
   "file_extension": ".py",
   "mimetype": "text/x-python",
   "name": "python",
   "nbconvert_exporter": "python",
   "pygments_lexer": "ipython3",
   "version": "3.11.4"
  }
 },
 "nbformat": 4,
 "nbformat_minor": 5
}
